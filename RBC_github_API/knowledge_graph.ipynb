{
 "cells": [
  {
   "cell_type": "code",
   "execution_count": 2,
   "metadata": {},
   "outputs": [],
   "source": [
    "import pandas as pd\n",
    "import numpy as np\n",
    "import networkx as nx"
   ]
  },
  {
   "cell_type": "code",
   "execution_count": null,
   "metadata": {},
   "outputs": [],
   "source": [
    "# Load the CSV file into a Pandas dataframe\n",
    "df = pd.read_csv('Repo_result1.csv')\n",
    "\n",
    "# Create a new empty graph\n",
    "graph = nx.Graph()\n",
    "\n",
    "# Add nodes to the graph based on the unique values in each column\n",
    "for col in df.columns:\n",
    "    for value in df[col].unique():\n",
    "        graph.add_node(value, label=col)\n",
    "\n",
    "# Add edges to the graph based on the values in each row\n",
    "for _, row in df.iterrows():\n",
    "    for i in range(len(row)):\n",
    "        for j in range(i+1, len(row)):\n",
    "            graph.add_edge(row[i], row[j])\n",
    "\n",
    "# Print the graph nodes and edges\n",
    "print(graph.nodes())\n",
    "print(graph.edges())\n"
   ]
  },
  {
   "cell_type": "code",
   "execution_count": null,
   "metadata": {},
   "outputs": [],
   "source": []
  }
 ],
 "metadata": {
  "kernelspec": {
   "display_name": "Python 3.9.6 ('.venv': venv)",
   "language": "python",
   "name": "python3"
  },
  "language_info": {
   "codemirror_mode": {
    "name": "ipython",
    "version": 3
   },
   "file_extension": ".py",
   "mimetype": "text/x-python",
   "name": "python",
   "nbconvert_exporter": "python",
   "pygments_lexer": "ipython3",
   "version": "3.9.6"
  },
  "orig_nbformat": 4,
  "vscode": {
   "interpreter": {
    "hash": "ac1ed9cf8908483be3efab7108db4a9f96c18dc55f6a498f298d4cd0497fd4fc"
   }
  }
 },
 "nbformat": 4,
 "nbformat_minor": 2
}
